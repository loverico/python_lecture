{
  "nbformat": 4,
  "nbformat_minor": 0,
  "metadata": {
    "colab": {
      "name": "[Python講座]第2回CSVファイルのデータを可視化する.ipynb",
      "provenance": [],
      "collapsed_sections": [],
      "include_colab_link": true
    },
    "kernelspec": {
      "display_name": "Python 3",
      "language": "python",
      "name": "python3"
    },
    "language_info": {
      "codemirror_mode": {
        "name": "ipython",
        "version": 3
      },
      "file_extension": ".py",
      "mimetype": "text/x-python",
      "name": "python",
      "nbconvert_exporter": "python",
      "pygments_lexer": "ipython3",
      "version": "3.7.4"
    },
    "toc-autonumbering": true
  },
  "cells": [
    {
      "cell_type": "markdown",
      "metadata": {
        "id": "view-in-github",
        "colab_type": "text"
      },
      "source": [
        "<a href=\"https://colab.research.google.com/github/loverico/python_lecture/blob/master/%5BPython%E8%AC%9B%E5%BA%A7%5D%E7%AC%AC2%E5%9B%9ECSV%E3%83%95%E3%82%A1%E3%82%A4%E3%83%AB%E3%81%AE%E3%83%87%E3%83%BC%E3%82%BF%E3%82%92%E5%8F%AF%E8%A6%96%E5%8C%96%E3%81%99%E3%82%8B.ipynb\" target=\"_parent\"><img src=\"https://colab.research.google.com/assets/colab-badge.svg\" alt=\"Open In Colab\"/></a>"
      ]
    },
    {
      "cell_type": "markdown",
      "metadata": {
        "colab_type": "text",
        "id": "qneYyYx4yUOb"
      },
      "source": [
        "## 今回学ぶこと\n",
        "\n",
        "* CSV データをPythonプログラムに読み込む方法\n",
        "* Pandas を用いてデータをを扱う方法\n",
        "* Seaborn でデータを描画する方法\n",
        "* spotify APIを使ってプレイリストや曲情報を取得する\n",
        "\n"
      ]
    },
    {
      "cell_type": "markdown",
      "metadata": {
        "colab_type": "text",
        "id": "PUI7p_ptLprI"
      },
      "source": [
        "## Pandasについて"
      ]
    },
    {
      "cell_type": "markdown",
      "metadata": {
        "colab_type": "text",
        "id": "0bUNayhEeHoX"
      },
      "source": [
        "Pandas とは\n",
        "\n",
        "* Pythonにおいて、データ解析を支援する機能を提供するライブラリ\n",
        "* データ操作を行うための DataFrame クラスを持つ。DataFrame内のデータをデータベースのように扱える。\n",
        "* CSVなど、様々なデータを簡単に読み込める\n",
        "\n"
      ]
    },
    {
      "cell_type": "code",
      "metadata": {
        "colab_type": "code",
        "id": "-ssexDsYLwI7",
        "colab": {}
      },
      "source": [
        "import pandas as pd"
      ],
      "execution_count": 0,
      "outputs": []
    },
    {
      "cell_type": "markdown",
      "metadata": {
        "id": "zBWd7pC8MXQt",
        "colab_type": "text"
      },
      "source": [
        ""
      ]
    },
    {
      "cell_type": "markdown",
      "metadata": {
        "colab_type": "text",
        "id": "SPb-sfBiLyje"
      },
      "source": [
        "## Python の可視化ライブラリ"
      ]
    },
    {
      "cell_type": "markdown",
      "metadata": {
        "colab_type": "text",
        "id": "-ZOudd3ugmp_"
      },
      "source": [
        "matplotlib について\n",
        "\n",
        "* Python でグラフを描くためのライブラリ\n",
        "\n",
        "\n",
        "seaborn について\n",
        "\n",
        "* matplotlib のグラフを簡単にきれいに描画できるライブラリ\n",
        "\n",
        "例: https://seaborn.pydata.org/examples/index.html\n",
        "\n",
        "この講座ではseabornを使ってグラフを描画します"
      ]
    },
    {
      "cell_type": "code",
      "metadata": {
        "colab_type": "code",
        "id": "hVj2YHJ3s9cb",
        "colab": {}
      },
      "source": [
        "import seaborn as sns\n",
        "\n",
        "# グラフのデザインを指定\n",
        "sns.set(style=\"whitegrid\")\n",
        "\n",
        "# ライブラリの中に含まれているサンプルデータセットを読み込み\n",
        "titanic = sns.load_dataset(\"titanic\")"
      ],
      "execution_count": 0,
      "outputs": []
    },
    {
      "cell_type": "code",
      "metadata": {
        "colab_type": "code",
        "id": "quGc79Ldj9w0",
        "colab": {}
      },
      "source": [
        "titanic"
      ],
      "execution_count": 0,
      "outputs": []
    },
    {
      "cell_type": "code",
      "metadata": {
        "colab_type": "code",
        "id": "QUJ_EtFitvK7",
        "colab": {}
      },
      "source": [
        "# 棒グラフを描画\n",
        "g = sns.catplot(x=\"class\", y=\"survived\", hue=\"sex\", data=titanic,\n",
        "                height=6, kind=\"bar\", palette=\"muted\")\n",
        "# 軸を除去\n",
        "g.despine(left=True)\n",
        "# y軸のラベルに名前を付ける\n",
        "g.set_ylabels(\"survival probability\")"
      ],
      "execution_count": 0,
      "outputs": []
    },
    {
      "cell_type": "code",
      "metadata": {
        "id": "g7AqUiFVz5yw",
        "colab_type": "code",
        "colab": {}
      },
      "source": [
        "# サンプルデータを読み込み\n",
        "fmri = sns.load_dataset(\"fmri\")\n",
        "fmri"
      ],
      "execution_count": 0,
      "outputs": []
    },
    {
      "cell_type": "code",
      "metadata": {
        "colab_type": "code",
        "id": "Co0MTzAFvHtm",
        "colab": {}
      },
      "source": [
        "# 折れ線グラフを描画\n",
        "sns.lineplot(x=\"timepoint\", y=\"signal\", \n",
        "             hue=\"event\",# event 毎に折れ線を表示\n",
        "             data=fmri)"
      ],
      "execution_count": 0,
      "outputs": []
    },
    {
      "cell_type": "code",
      "metadata": {
        "colab_type": "code",
        "id": "R6KLIFbRvL0o",
        "colab": {}
      },
      "source": [
        "# ヒストグラムを描画\n",
        "sns.distplot(titanic['fare'])"
      ],
      "execution_count": 0,
      "outputs": []
    },
    {
      "cell_type": "code",
      "metadata": {
        "colab_type": "code",
        "id": "yoQyvaP2vknO",
        "colab": {}
      },
      "source": [
        "# サンプルデータを読み込み\n",
        "tips = sns.load_dataset(\"tips\")\n",
        "tips"
      ],
      "execution_count": 0,
      "outputs": []
    },
    {
      "cell_type": "code",
      "metadata": {
        "colab_type": "code",
        "id": "nSLEpwaelPnw",
        "colab": {}
      },
      "source": [
        "# 散布図を描画\n",
        "g = sns.jointplot(x=\"total_bill\", y=\"tip\", data=tips)"
      ],
      "execution_count": 0,
      "outputs": []
    },
    {
      "cell_type": "markdown",
      "metadata": {
        "id": "lMw8VWSMB-XZ",
        "colab_type": "text"
      },
      "source": [
        "その他、チャートの種類に関しては、以下を参照されたし\n",
        "- [よく使うグラフをseabornで可視化する方法を調べてみた](https://qiita.com/ninomiyt/items/cda7ee0b940dd461cd09)\n",
        "- [公式サイト](https://seaborn.pydata.org/)"
      ]
    },
    {
      "cell_type": "markdown",
      "metadata": {
        "colab_type": "text",
        "id": "G_YQMJbfgpX5"
      },
      "source": [
        "## Spotifyデータを可視化する"
      ]
    },
    {
      "cell_type": "markdown",
      "metadata": {
        "colab_type": "text",
        "id": "d6NPOcOtDsf2"
      },
      "source": [
        "\n",
        "以下のcsvを利用します（使用の手順）\n",
        "\n",
        "https://drive.google.com/file/d/1-ZjhK4q3PANqdeutqjqVDTguXe_3Ghxk/view?usp=sharing\n",
        "- 上のリンクを踏み、マイドライブへ追加する（画像を参照のこと）\n",
        "![代替テキスト](https://storage.cloud.google.com/akiyama_workspace/images/chart_weekly.csv%20-%20Google%20%E3%83%88%E3%82%99%E3%83%A9%E3%82%A4%E3%83%95%E3%82%99%202020-03-24%2013-18-02.png?hl=ja)\n",
        "- マイドライブとこのノートブックをマウントする.(以下のセルを実行）\n",
        "- Go to this URL in a browser:と書かれたリンク先にとび、現在のgoogleアカウントでログイン\n",
        "- ログイン後、Google Drive File Stream が Google アカウントへのアクセスをリクエストしていますと表示がなされるので、許可ボタンをおす\n",
        "- secretコード（許可ボタンを押した後に表示される文字列）をコピーして、 下セルの\n",
        "実行結果にあるEnter your authorization code: のフォームに、先ほどコピーした文字列を入れてenter\n",
        "- Mounted at /content/drive　と出たら、マウント成功。自分のドライブにあるファイルを読み込むことができる"
      ]
    },
    {
      "cell_type": "code",
      "metadata": {
        "id": "p6d3T4oo_Gxs",
        "colab_type": "code",
        "colab": {}
      },
      "source": [
        "from google.colab import drive\n",
        "drive.mount('/content/drive')"
      ],
      "execution_count": 0,
      "outputs": []
    },
    {
      "cell_type": "code",
      "metadata": {
        "colab_type": "code",
        "id": "e0X4RkYi69a4",
        "colab": {}
      },
      "source": [
        "import pandas as pd\n",
        "import seaborn as sns"
      ],
      "execution_count": 0,
      "outputs": []
    },
    {
      "cell_type": "code",
      "metadata": {
        "colab_type": "code",
        "id": "lHSWqMjB_uxb",
        "colab": {}
      },
      "source": [
        "# spotify の日本の週間チャートデータを読み込む\n",
        "master_df = pd.read_csv(\"/content/drive/My Drive/chart_weekly.csv\")"
      ],
      "execution_count": 0,
      "outputs": []
    },
    {
      "cell_type": "code",
      "metadata": {
        "colab_type": "code",
        "id": "9erNBmLgDxOe",
        "colab": {}
      },
      "source": [
        "#全部で26600 件、７カラムあることを確認\n",
        "master_df"
      ],
      "execution_count": 0,
      "outputs": []
    },
    {
      "cell_type": "code",
      "metadata": {
        "id": "MtL29UKMJzPG",
        "colab_type": "code",
        "colab": {}
      },
      "source": [
        "#Unnamed: 0 となっているカラムはいらないので消す（他にも沢山やり方があるが、ここでは、列を指定して、再代入するやり方をとる)\n",
        "master_df = master_df.iloc[:,1:] # ilocのブラケット内の引数は、 1番目の引数で行番号を指定できて、二番目の引数で列番号を指定できる\n",
        "print(f\"master_df columns : {master_df.columns}\") # .columns でカラムが表示される\n",
        "master_df"
      ],
      "execution_count": 0,
      "outputs": []
    },
    {
      "cell_type": "code",
      "metadata": {
        "colab_type": "code",
        "id": "47OsMooMZRgr",
        "colab": {}
      },
      "source": [
        "# 最初の行のみを表示\n",
        "master_df.head(3) #引数に指定しない場合は、五行分が表示される"
      ],
      "execution_count": 0,
      "outputs": []
    },
    {
      "cell_type": "code",
      "metadata": {
        "colab_type": "code",
        "id": "sZSGO-YAeHPU",
        "colab": {}
      },
      "source": [
        "# 特定の列のみ抽出\n",
        "master_df[['Track Name', 'Artist']].head()"
      ],
      "execution_count": 0,
      "outputs": []
    },
    {
      "cell_type": "code",
      "metadata": {
        "colab_type": "code",
        "id": "ehb-xGoYoJz_",
        "colab": {}
      },
      "source": [
        "# date カラムを明示的にdate型に変換\n",
        "master_df[\"date\"] = pd.to_datetime(master_df[\"date\"])\n",
        "print(f\"'date' column's type is {type(pd.to_datetime(master_df['date'])[0])}\")\n",
        "# 逆に、文字列にするには、astypeを使う\n",
        "print(f\"'date' column's type is {type(master_df['date'].astype(str)[0])}\")"
      ],
      "execution_count": 0,
      "outputs": []
    },
    {
      "cell_type": "code",
      "metadata": {
        "id": "y3iEcXRC8O2G",
        "colab_type": "code",
        "colab": {}
      },
      "source": [
        "master_df[\"date\"].head()"
      ],
      "execution_count": 0,
      "outputs": []
    },
    {
      "cell_type": "markdown",
      "metadata": {
        "colab_type": "text",
        "id": "soKQzrT7rxYQ"
      },
      "source": [
        "### アーティスト名の長さをカラムに追加"
      ]
    },
    {
      "cell_type": "code",
      "metadata": {
        "id": "M7Dh3Bsh5xnx",
        "colab_type": "code",
        "colab": {}
      },
      "source": [
        "# 各カラムの型と、欠損値を確認（Track Name,Artistに欠損値がみられる。欠損値があると、うまく行の変換が行えなかったりするので注意)\n",
        "master_df.info()"
      ],
      "execution_count": 0,
      "outputs": []
    },
    {
      "cell_type": "markdown",
      "metadata": {
        "id": "-Sd2cj7H-B-c",
        "colab_type": "text"
      },
      "source": [
        "### 欠損した行をみてみると"
      ]
    },
    {
      "cell_type": "code",
      "metadata": {
        "id": "AaLK8gyQ9yPr",
        "colab_type": "code",
        "colab": {}
      },
      "source": [
        "#Artist が欠損したレコード\n",
        "master_df[master_df[\"Artist\"].isnull()]"
      ],
      "execution_count": 0,
      "outputs": []
    },
    {
      "cell_type": "code",
      "metadata": {
        "id": "Oao1K9Ts8Ubk",
        "colab_type": "code",
        "colab": {}
      },
      "source": [
        "#Track Name が欠損したレコード\n",
        "master_df[master_df[\"Track Name\"].isnull()]"
      ],
      "execution_count": 0,
      "outputs": []
    },
    {
      "cell_type": "code",
      "metadata": {
        "id": "a0G-dGnltGnL",
        "colab_type": "code",
        "colab": {}
      },
      "source": [
        "#欠損値を置換\n",
        "master_df.fillna(value={'Track Name': '','Artist':''}, inplace=True)#inplace=Trueで再代入しなくても元のオブジェクトに変更が反映される\n"
      ],
      "execution_count": 0,
      "outputs": []
    },
    {
      "cell_type": "code",
      "metadata": {
        "colab_type": "code",
        "id": "dVDOBGSeJPQb",
        "colab": {}
      },
      "source": [
        "# artist_name カラムの要素に1つずつ、len() メソッドを適用し、アーティスト名の長さを取得\n",
        "master_df[\"artist_length\"] = master_df[\"Artist\"].map(len) # map関数で各行の値を長さにマッピング（変換）している"
      ],
      "execution_count": 0,
      "outputs": []
    },
    {
      "cell_type": "code",
      "metadata": {
        "colab_type": "code",
        "id": "oxxPePm6pXT3",
        "colab": {}
      },
      "source": [
        "master_df.head()"
      ],
      "execution_count": 0,
      "outputs": []
    },
    {
      "cell_type": "code",
      "metadata": {
        "colab_type": "code",
        "id": "gtilj4W6ed9X",
        "colab": {}
      },
      "source": [
        "# 長さが30以上のアーティストのみ抽出\n",
        "master_df[master_df['artist_length'] >= 30]"
      ],
      "execution_count": 0,
      "outputs": []
    },
    {
      "cell_type": "code",
      "metadata": {
        "id": "sNazvIIxD7bt",
        "colab_type": "code",
        "colab": {}
      },
      "source": [
        "# ブラケット内ではこのようになっている\n",
        "master_df['artist_length'] >= 30"
      ],
      "execution_count": 0,
      "outputs": []
    },
    {
      "cell_type": "markdown",
      "metadata": {
        "id": "gFH7ZeM-FrKF",
        "colab_type": "text"
      },
      "source": [
        "上では、行ごとにTrue、Falseといった判定結果が記載されたpandas.Series（pandas データフレームの1カラムバージョンのオブジェクト）が生成され、それをpandas.DataFrameのブラケットに入れることにより、Trueになっている行のみが抽出される\n",
        "\n"
      ]
    },
    {
      "cell_type": "code",
      "metadata": {
        "colab_type": "code",
        "id": "TFJC7_sdfUjl",
        "colab": {}
      },
      "source": [
        "# 長い順にソート\n",
        "master_df.sort_values(by='artist_length', ascending=False).head()"
      ],
      "execution_count": 0,
      "outputs": []
    },
    {
      "cell_type": "code",
      "metadata": {
        "colab_type": "code",
        "id": "wgCgcEd6qG4i",
        "colab": {}
      },
      "source": [
        "#短い順にソート\n",
        "master_df.sort_values(by='artist_length', ascending=True).head()"
      ],
      "execution_count": 0,
      "outputs": []
    },
    {
      "cell_type": "markdown",
      "metadata": {
        "id": "iFjL9RRVuicl",
        "colab_type": "text"
      },
      "source": [
        "## アーティストの名前の長さと、曲名の長さには相関性があるのか考えてみる。"
      ]
    },
    {
      "cell_type": "markdown",
      "metadata": {
        "id": "nXF1ICCFV7Gw",
        "colab_type": "text"
      },
      "source": [
        "**そうかん**\n",
        "\n",
        "**【相関】**\n",
        "\n",
        "《名・ス自》二つ以上の事物の、一方が変われば他方もそれに連れて変わるとか、あるものの影響を受けてかかわり合っているとかいうように、互いに関係を持つこと。また、そういう関係。\n",
        "\n",
        "##### **→やはり短い名前のアーティストは曲名を短く、長い名前のアーティストは曲名を長く書きがちなのではないか🤔？**"
      ]
    },
    {
      "cell_type": "code",
      "metadata": {
        "id": "x_0b6rFfu0CX",
        "colab_type": "code",
        "colab": {}
      },
      "source": [
        "#曲名の長さの列を生成\n",
        "master_df[\"track_name_length\"] = master_df[\"Track Name\"].map(len)"
      ],
      "execution_count": 0,
      "outputs": []
    },
    {
      "cell_type": "markdown",
      "metadata": {
        "id": "nAo4V82f4Nc_",
        "colab_type": "text"
      },
      "source": [
        "spotifyチャートデータには、同じ曲のデータがいくつもあるので重複を排除したい。"
      ]
    },
    {
      "cell_type": "code",
      "metadata": {
        "id": "Fk2FN1kEX0XQ",
        "colab_type": "code",
        "colab": {}
      },
      "source": [
        "#groupby(\"Track Name\")でTrack Name毎にデータをまとめることができる。\n",
        "# さらに、max()で曲ごとの最大値（曲毎であるなら、曲名の長さも、アーティスト名の長さも同じなはず）をとることで master_df から同じ曲の排除を行える\n",
        "track_master= master_df.groupby(\"Track Name\").max()\n",
        "track_master.head()"
      ],
      "execution_count": 0,
      "outputs": []
    },
    {
      "cell_type": "code",
      "metadata": {
        "id": "0vx-g15GPgDb",
        "colab_type": "code",
        "colab": {}
      },
      "source": [
        "# corr()でそれぞれの特徴同士での相関係数（ -1 ~ 1　の間の数字で -1 か 1に近づくほど相関性が高く、 0 に近づくほど相関性が低くなる)をみることができる\n",
        "# 参考 https://bellcurve.jp/statistics/course/9591.html\n",
        "track_master.corr()"
      ],
      "execution_count": 0,
      "outputs": []
    },
    {
      "cell_type": "markdown",
      "metadata": {
        "id": "TDUkVi6ecHOt",
        "colab_type": "text"
      },
      "source": [
        "track_name_length と artist_lengthには相関性がほぼない？！(相関係数は±0.2を超えて初めて相関性があるのかを検討できるので）\n",
        "\n",
        "**→とりあえず散布図でプロットしてみる**"
      ]
    },
    {
      "cell_type": "code",
      "metadata": {
        "id": "8BwUHamehmI2",
        "colab_type": "code",
        "colab": {}
      },
      "source": [
        "sns.jointplot(x=\"artist_length\",y=\"track_name_length\", data=track_master)"
      ],
      "execution_count": 0,
      "outputs": []
    },
    {
      "cell_type": "markdown",
      "metadata": {
        "id": "70ClZGU3_sR0",
        "colab_type": "text"
      },
      "source": [
        "artist_lengthが２０文字以上である場合、アーティスト名の長さが増えるにしたがって、曲名の長さも増えていかないか？（相関関係がないか？）\n",
        "\n",
        "**→同じアーティストによる楽曲名の長さもばらつきがあるため、一旦アーティスト毎の、曲名の長さの平均値をプロットしてみる**"
      ]
    },
    {
      "cell_type": "markdown",
      "metadata": {
        "colab_type": "text",
        "id": "hBVb48sn1U6W"
      },
      "source": [
        "アーティスト名ごとに曲の平均の長さを求める手順\n",
        "1. DataFrameの全データをアーティスト名毎に分割して、グループを作成 (Splitting)\n",
        "2. グループ毎に平均値を求める (Applying)\n",
        "3. それぞれのグループを合わせた新しいDataFrameを作成 (Combining)\n",
        "\n",
        "\n",
        "\n",
        "![年毎の平均値を求める](http://drive.google.com/uc?export=view&id=1jWuNslF69Rd2dYjJfN1LkzELnOJ0k8js)\n",
        "\n",
        "\n",
        "公式ドキュメント\n",
        "\n",
        "https://pandas.pydata.org/pandas-docs/stable/user_guide/groupby.html\n"
      ]
    },
    {
      "cell_type": "code",
      "metadata": {
        "id": "rYdKMW7A1Sw-",
        "colab_type": "code",
        "colab": {}
      },
      "source": [
        "# アーティスト毎の、平均値を取得\n",
        "track_mean_by_artist =track_master.groupby('Artist').mean()\n",
        "sns.jointplot(x=\"artist_length\",y=\"track_name_length\", data=track_mean_by_artist)"
      ],
      "execution_count": 0,
      "outputs": []
    },
    {
      "cell_type": "code",
      "metadata": {
        "id": "62sBUzp8Busk",
        "colab_type": "code",
        "colab": {}
      },
      "source": [
        "# さらに、アーティスト名２1文字以上の部分でプロットしてみると...\n",
        "sns.jointplot(x=\"artist_length\",y=\"track_name_length\", data=track_mean_by_artist[track_mean_by_artist.artist_length >= 21])"
      ],
      "execution_count": 0,
      "outputs": []
    },
    {
      "cell_type": "markdown",
      "metadata": {
        "id": "Fl-v_QuRDGak",
        "colab_type": "text"
      },
      "source": [
        "データは少ないが、右肩上がりで比例してる様に見えそう"
      ]
    },
    {
      "cell_type": "code",
      "metadata": {
        "id": "oT0vabtGhyFh",
        "colab_type": "code",
        "colab": {}
      },
      "source": [
        "#　この状態で相関係数をみてみると\n",
        "track_mean_by_artist[track_mean_by_artist.artist_length >= 21].groupby('Artist').mean().corr()"
      ],
      "execution_count": 0,
      "outputs": []
    },
    {
      "cell_type": "code",
      "metadata": {
        "id": "mvOH8mrAjyoi",
        "colab_type": "code",
        "colab": {}
      },
      "source": [
        "#ちなみに、２１文字未満の相関係数では\n",
        "track_mean_by_artist[track_mean_by_artist.artist_length < 21].groupby('Artist').mean().corr()"
      ],
      "execution_count": 0,
      "outputs": []
    },
    {
      "cell_type": "markdown",
      "metadata": {
        "id": "iVfyP4ZUmQHN",
        "colab_type": "text"
      },
      "source": [
        "## 考察ポイント\n",
        "自身の名前２０文字以上のアーティストではやや強い正の相関性がみられる(0.64)\n",
        "＝自分のアーティスト名が長いほど、長い曲をつける傾向がみられる\n",
        "\n",
        "逆に20文字以下のアーティストでは、ほぼ無相関だと言える\n",
        "\n",
        "**この様に、調査対象を特徴毎に分けて分析するやり方を層別解析と言ったりします。**\n",
        "\n",
        "　しかし、強い相関がみられる背後の原因はなんなのか。\n",
        "英字のアーティストによるものではなかろうか？spotifyのチャートに載っているようなアーティストだからだろうか？　　また、なんで20文字以下になると相関係数が下がってしまうのか？\n",
        "\n",
        "**原因と思われる特徴でさらに分割したり、新たにデータを追加したりして考えてみてもいいかもしれません**\n",
        "\n",
        "\n",
        "*（というか、そもそも曲名とアーティスト名のみが網羅的に載ったファイルを作るべきでは...)*\n"
      ]
    },
    {
      "cell_type": "markdown",
      "metadata": {
        "id": "8_FPOZjFz519",
        "colab_type": "text"
      },
      "source": [
        "# Spotify APIを使用する"
      ]
    },
    {
      "cell_type": "markdown",
      "metadata": {
        "colab_type": "text",
        "id": "3tKQXhZ0KMiP"
      },
      "source": [
        "Spotify API の特徴\n",
        "\n",
        "![代替テキスト](https://cdn-ssl-devio-img.classmethod.jp/wp-content/uploads/2017/12/spotify-api-overview.png)\n",
        "\n",
        "* Spotify URIやSpotify IDなど、Spotify特有のパラメータ情報をリクエスト、レスポンス時に扱うことがあります。\n",
        "* レート制限に引っかかるとステータスコード429が返却される。これが返ってきた場合は、Retry-Afterヘッダーの値を確認し、そこに記載されている秒の間はAPIをコールすることができない。\n",
        "\n",
        "* レスポンスデータは、JSON Object形式で取得します。\n",
        "\n",
        "* タイムスタンプはUTC zero offset形式（YYYY-MM-DDTHH:MM:SSZ）\n",
        "\n",
        "* 一部のAPIではページネーションをサポート（offset、limitパラメータで指定）\n",
        "\n",
        "* 多くのAPIでは、クライアント側でレスポンスデータのキャッシュを行うためのヘッダー情報が付与される。\n",
        "\n",
        "* レスポンスステータスコードは、RFC 2616 と RFC 6585に則って2xx、3xx、4xx、5xxを返す。\n",
        "\n",
        "* レスポンスデータのエラー表現には、下記2種類のフォーマットを使用する。\n",
        "\n",
        "  * Authentication Error Object\n",
        "  * Regular Error Object\n",
        "*APIをコールするにはOAuthアクセストークンが必要。"
      ]
    },
    {
      "cell_type": "markdown",
      "metadata": {
        "colab_type": "text",
        "id": "sxPITjDVKo13"
      },
      "source": [
        "認証方法の種類\n",
        "\n",
        "![代替テキスト](https://cdn-ssl-devio-img.classmethod.jp/wp-content/uploads/2017/12/Obtaining-Authorization.png)\n",
        "\n",
        "* App Authorization\n",
        "  * システム（Spotify）が、クライアントアプリケーションに、Spotify Platform (APIs, SDKs and Widgets)へアクセスすることを許可します。\n",
        "* User Authorization\n",
        "  * エンドユーザー（Spotifyのエンドユーザー）が、クライアントアプリケーションに、エンドユーザーが所有するデータへアクセスすることを許可します。"
      ]
    },
    {
      "cell_type": "markdown",
      "metadata": {
        "colab_type": "text",
        "id": "A1hBlVzKLdAg"
      },
      "source": [
        "アプリが認証の許可を得るための3つの方法\n",
        "\n",
        "\n",
        "* Refreshable user authorization: Authorization Code\n",
        "  * このフローでは、エンドユーザーはクライアントアプリケーションがリソースへアクセスすることを1度だけ許可します。そのため長期間稼働させるアプリケーションに適しています。 アプリケーションにはリフレッシュ可能なアクセストークンを提供されます。ちなみにトークン交換には秘密鍵の送信が含まれるため、ブラウザやモバイルアプリなどのクライアントからではなく、バックエンドサービスなどの安全な場所でこれを実行します。\n",
        "* Temporary user authorization: Implicit Grant\n",
        "  * このフローは、JavaScriptを使用するため、リソース所有者のブラウザで実行されるクライアントアプリケーション向けです。サーバー側のコードを使用する必要はありません。リクエストのレート制限は改善されていますが、リフレッシュトークンは提供されていません。このフローはRFC-6749で定義されています。\n",
        "* **Refreshable app authorization: Client Credentials Flow**\n",
        "  * このフローは、サーバー間認証で使用されます。エンドユーザー情報にアクセスしないエンドポイントのみにアクセスが可能です。\n",
        "  * **このセミナーではこの認証方法を使用**"
      ]
    },
    {
      "cell_type": "markdown",
      "metadata": {
        "colab_type": "text",
        "id": "9eYsUYrOfWsv"
      },
      "source": [
        "## アカウントを作る\n",
        "\n",
        "1. https://www.spotify.com/ にアクセスしてアカウントを作る。\n",
        "2. https://developer.spotify.com/my-applications に行ってログイン\n",
        "3. Create an Application に Application Name と Description を入れる\n",
        "4. Are you developing a commercial integration? と聞かれたら、この講座では NO を選択\n",
        "5. チェックボックスをオンにして Submit\n",
        "6. Client ID と Client Secret メモしておく。APIを呼ぶ際に使います。"
      ]
    },
    {
      "cell_type": "markdown",
      "metadata": {
        "colab_type": "text",
        "id": "qrWHr-hdn3Vf"
      },
      "source": [
        "## Spotipyのインストール\n",
        "\n",
        "Spotipy とは、Spotify APIを呼ぶためのPythonライブラリ\n",
        "\n",
        "* HTTPリクエストを送る操作をライブラリ内で行っているため、リクエストを意識せずに使うことができる\n",
        "* pip install spotipy でインストール"
      ]
    },
    {
      "cell_type": "code",
      "metadata": {
        "id": "zL_ocyhuz52M",
        "colab_type": "code",
        "colab": {}
      },
      "source": [
        "!pip install spotipy"
      ],
      "execution_count": 0,
      "outputs": []
    },
    {
      "cell_type": "markdown",
      "metadata": {
        "colab_type": "text",
        "id": "DArFr-R0eSLz"
      },
      "source": [
        "spotipy.Spotify クラスがAPIへ様々なリクエストを送る\n",
        "\n",
        "https://spotipy.readthedocs.io/en/latest/#module-spotipy.client"
      ]
    },
    {
      "cell_type": "code",
      "metadata": {
        "colab_type": "code",
        "id": "n_4yp8T2aAEP",
        "colab": {}
      },
      "source": [
        "import spotipy\n",
        "from spotipy.oauth2 import SpotifyClientCredentials\n",
        "\n",
        "CLIENT_ID = \"ここにclientIDを入力\"\n",
        "CLIENT_SECRET = \"ここにclientSecretを入力\"\n",
        "\n",
        "# 認証情報をセット\n",
        "client_credentials_manager = SpotifyClientCredentials(client_id=CLIENT_ID, client_secret=CLIENT_SECRET)\n",
        "# 認証情報を元に、APIクライアントを作成\n",
        "sp = spotipy.Spotify(client_credentials_manager=client_credentials_manager)"
      ],
      "execution_count": 0,
      "outputs": []
    },
    {
      "cell_type": "markdown",
      "metadata": {
        "colab_type": "text",
        "id": "lTK59tTLfVL1"
      },
      "source": [
        "プレイリストを取得\n",
        "\n",
        "公式リファレンス: https://developer.spotify.com/documentation/web-api/reference/playlists/get-list-users-playlists/\n",
        "\n",
        "Spotipyリファレンス: https://spotipy.readthedocs.io/en/latest/#spotipy.client.Spotify.user_playlist"
      ]
    },
    {
      "cell_type": "code",
      "metadata": {
        "colab_type": "code",
        "id": "dn_fjMgB0mML",
        "scrolled": true,
        "colab": {}
      },
      "source": [
        "# Spotify 公式のプレイリストから2つ取得\n",
        "playlists = sp.user_playlists('spotify',limit=2)\n",
        "# 辞書形式で返却される\n",
        "type(playlists)"
      ],
      "execution_count": 0,
      "outputs": []
    },
    {
      "cell_type": "markdown",
      "metadata": {
        "colab_type": "text",
        "id": "lUGSw_aSj000"
      },
      "source": [
        "pprint を用いるとよりきれいにデータを表示できる\n",
        "\n",
        "https://docs.python.org/ja/3/library/pprint.html"
      ]
    },
    {
      "cell_type": "code",
      "metadata": {
        "colab_type": "code",
        "id": "ZLo90ITfjXAN",
        "scrolled": true,
        "colab": {}
      },
      "source": [
        "from pprint import pprint\n",
        "pprint(playlists)"
      ],
      "execution_count": 0,
      "outputs": []
    },
    {
      "cell_type": "code",
      "metadata": {
        "colab_type": "code",
        "id": "lFKaZuweNSR_",
        "colab": {}
      },
      "source": [
        "# 見にくいのでitemsで抽出\n",
        "pprint(playlists['items'])"
      ],
      "execution_count": 0,
      "outputs": []
    },
    {
      "cell_type": "code",
      "metadata": {
        "colab_type": "code",
        "id": "es62AMXdOGWs",
        "colab": {}
      },
      "source": [
        "# タイトルを取得\n",
        "pprint([x[\"name\"] for x in playlists['items']])\n",
        "# id を取得\n",
        "pprint([x[\"id\"] for x in playlists['items']])\n",
        "# URLを取得\n",
        "pprint([x[\"external_urls\"] for x in playlists['items']])"
      ],
      "execution_count": 0,
      "outputs": []
    },
    {
      "cell_type": "code",
      "metadata": {
        "colab_type": "code",
        "id": "tggqeHOxP2iJ",
        "colab": {}
      },
      "source": [
        "# 複数のタイトルとURLを取得\n",
        "for playlist in playlists['items']:\n",
        "  # playlists['items'][0] を playlist で置き換える\n",
        "  pprint('タイトル: ' + playlist['name'])\n",
        "  pprint('id: ' + playlist['id'])\n",
        "  pprint('URL: ' + playlist['external_urls']['spotify'])\n",
        "  print()"
      ],
      "execution_count": 0,
      "outputs": []
    }
  ]
}